{
 "cells": [
  {
   "cell_type": "code",
   "execution_count": 1,
   "metadata": {},
   "outputs": [],
   "source": [
    "import pandas as pd\n",
    "from pandas import factorize\n",
    "import numpy as np, pandas as pd, os, gc"
   ]
  },
  {
   "cell_type": "code",
   "execution_count": 2,
   "metadata": {},
   "outputs": [],
   "source": [
    "# read data\n",
    "sub = pd.read_csv(\"submission/sub2_.3.csv\")\n",
    "X_test = pd.read_csv('data/X_test.csv')"
   ]
  },
  {
   "cell_type": "code",
   "execution_count": 3,
   "metadata": {},
   "outputs": [],
   "source": [
    "test_uid_map = X_test[['TransactionID','uid']]\n",
    "test_uid = pd.merge(sub, test_uid_map, on=\"TransactionID\").sort_values('uid')\n",
    "test_uid = test_uid[['uid','TransactionID','isFraud']]"
   ]
  },
  {
   "cell_type": "code",
   "execution_count": 4,
   "metadata": {},
   "outputs": [],
   "source": [
    "user = []\n",
    "fraud = []\n",
    "test_uid_group = test_uid.groupby('uid')\n",
    "for gn,data in test_uid_group:\n",
    "    user.append(gn)\n",
    "    if 1 in list(data['isFraud'].values):\n",
    "        fraud.append(1)\n",
    "    else:\n",
    "        fraud.append(0)"
   ]
  },
  {
   "cell_type": "code",
   "execution_count": 5,
   "metadata": {},
   "outputs": [],
   "source": [
    "userFraud = {\n",
    "    'uid':user,\n",
    "    'isFraud':fraud\n",
    "}\n",
    "pd.DataFrame(userFraud).to_csv(\"userFraud.csv\",index=None)\n",
    "test_uid.to_csv(\"userFraudwithTransID.csv\",index=None)"
   ]
  },
  {
   "cell_type": "code",
   "execution_count": null,
   "metadata": {},
   "outputs": [],
   "source": []
  }
 ],
 "metadata": {
  "kernelspec": {
   "display_name": "Python 3",
   "language": "python",
   "name": "python3"
  },
  "language_info": {
   "codemirror_mode": {
    "name": "ipython",
    "version": 3
   },
   "file_extension": ".py",
   "mimetype": "text/x-python",
   "name": "python",
   "nbconvert_exporter": "python",
   "pygments_lexer": "ipython3",
   "version": "3.6.10"
  }
 },
 "nbformat": 4,
 "nbformat_minor": 4
}
