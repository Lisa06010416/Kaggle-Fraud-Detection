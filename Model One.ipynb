{
 "cells": [
  {
   "cell_type": "code",
   "execution_count": null,
   "metadata": {},
   "outputs": [],
   "source": [
    "from keras.utils import Sequence\n",
    "import numpy as np\n",
    "import pickle as pkl\n",
    "import pandas as pd"
   ]
  },
  {
   "cell_type": "markdown",
   "metadata": {},
   "source": [
    "# Load Data"
   ]
  },
  {
   "cell_type": "code",
   "execution_count": null,
   "metadata": {},
   "outputs": [],
   "source": [
    "loadfile = open('data/X_Train_Seq', 'rb')\n",
    "X_Train_Seq = pkl.load(loadfile)\n",
    "loadfile.close()\n",
    "\n",
    "loadfile = open('data/X_Test_Seq', 'rb')\n",
    "X_Test_Seq = pkl.load(loadfile)\n",
    "loadfile.close()\n",
    "\n",
    "loadfile = open('data/Y_Train_Seq', 'rb')\n",
    "Y_Train_Seq = pkl.load(loadfile)\n",
    "loadfile.close()\n",
    "\n",
    "loadfile = open('data/TranID_Seq', 'rb')\n",
    "TranID_Seq = pkl.load(loadfile)\n",
    "loadfile.close()"
   ]
  },
  {
   "cell_type": "markdown",
   "metadata": {},
   "source": [
    "# Model 1"
   ]
  },
  {
   "cell_type": "code",
   "execution_count": null,
   "metadata": {},
   "outputs": [],
   "source": [
    "from keras.models import Sequential\n",
    "from keras.layers import Dense, Activation, LSTM, Masking, Dropout, BatchNormalization\n",
    "from keras.callbacks import EarlyStopping,ModelCheckpoint\n",
    "from keras.utils.generic_utils import get_custom_objects\n",
    "import tensorflow as tf\n",
    "import keras.backend as K"
   ]
  },
  {
   "cell_type": "code",
   "execution_count": null,
   "metadata": {},
   "outputs": [],
   "source": [
    "feature_num = len(X_Train_Seq[0][0])"
   ]
  },
  {
   "cell_type": "code",
   "execution_count": null,
   "metadata": {},
   "outputs": [],
   "source": [
    "def modify_mse(y_true, y_pred):\n",
    "    fraud = tf.ones_like(y_pred) - tf.where(tf.equal(y_true, 1), y_pred, tf.ones_like(y_pred))\n",
    "    normal = tf.where(tf.equal(y_true, 0), y_pred, tf.zeros_like(y_pred))\n",
    "    return K.mean(fraud*fraud) + 0.4*K.mean(normal*normal)"
   ]
  },
  {
   "cell_type": "code",
   "execution_count": null,
   "metadata": {},
   "outputs": [],
   "source": [
    "model = Sequential()\n",
    "model.add(Masking(mask_value=-99, input_shape=(3, feature_num)))\n",
    "model.add(Dropout(0.2))\n",
    "model.add(LSTM(50, return_sequences=True))\n",
    "model.add(Dropout(0.2))\n",
    "model.add(Dense(32, activation='relu'))\n",
    "model.add(Dropout(0.2))\n",
    "model.add(Dense(1, activation='sigmoid'))\n",
    "model.compile(optimizer='adam', loss=modify_mse, metrics=['acc'])\n",
    "print(model.summary())"
   ]
  },
  {
   "cell_type": "code",
   "execution_count": null,
   "metadata": {
    "scrolled": true
   },
   "outputs": [],
   "source": [
    "best_weights_filepath = \"best1.hdf5\"\n",
    "callback = EarlyStopping(monitor=\"val_loss\", patience=10, verbose=1, mode=\"auto\")\n",
    "saveBestModel = ModelCheckpoint(best_weights_filepath, monitor='val_loss', verbose=1, save_best_only=True, mode='auto')\n",
    "model.fit(np.array(X_Train_Seq), np.array(Y_Train_Seq).reshape((-1,3,1)), validation_split=0.2, epochs=1000, batch_size=128, callbacks=[callback,saveBestModel])"
   ]
  },
  {
   "cell_type": "markdown",
   "metadata": {},
   "source": [
    "# Test"
   ]
  },
  {
   "cell_type": "code",
   "execution_count": null,
   "metadata": {},
   "outputs": [],
   "source": [
    "def subFile(filename,threshold):\n",
    "    predict = model.predict(np.array(X_Test_Seq)) > threshold\n",
    "    index_TranID = 0\n",
    "    answer = []\n",
    "    for seqIndex,seq in enumerate(predict) :\n",
    "        for tranIndex, tran in enumerate(seq):\n",
    "            if TranID_Seq[index_TranID]!=-1:\n",
    "                answer.append([int(TranID_Seq[index_TranID]),1 if tran else 0])\n",
    "            index_TranID+=1\n",
    "    answer = np.array(answer)\n",
    "    a = {'TransactionID':answer[:,0],\n",
    "          'isFraud':answer[:,1]}\n",
    "    ans = pd.DataFrame(a)\n",
    "    sample = pd.read_csv(\"data/IEEE/sample_submission.csv\")\n",
    "    sub = pd.merge(sample, ans, how=\"left\", on=\"TransactionID\")\n",
    "    del sub['isFraud_x']\n",
    "    sub = sub.rename(columns={'isFraud_y':'isFraud'})\n",
    "    sub.to_csv('ubmission/sum1_'+filename+'.csv',index=False)"
   ]
  },
  {
   "cell_type": "code",
   "execution_count": null,
   "metadata": {},
   "outputs": [],
   "source": [
    "model.load_weights(\"best1.hdf5\")"
   ]
  },
  {
   "cell_type": "code",
   "execution_count": null,
   "metadata": {},
   "outputs": [],
   "source": [
    "for t in ['.1','.2','.3','.4','.5','.6']:\n",
    "    subFile(t,float(t))"
   ]
  },
  {
   "cell_type": "code",
   "execution_count": null,
   "metadata": {},
   "outputs": [],
   "source": []
  }
 ],
 "metadata": {
  "kernelspec": {
   "display_name": "Python 3",
   "language": "python",
   "name": "python3"
  },
  "language_info": {
   "codemirror_mode": {
    "name": "ipython",
    "version": 3
   },
   "file_extension": ".py",
   "mimetype": "text/x-python",
   "name": "python",
   "nbconvert_exporter": "python",
   "pygments_lexer": "ipython3",
   "version": "3.6.10"
  }
 },
 "nbformat": 4,
 "nbformat_minor": 4
}
